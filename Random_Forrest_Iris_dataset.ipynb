{
 "cells": [
  {
   "cell_type": "code",
   "execution_count": null,
   "metadata": {
    "collapsed": false
   },
   "outputs": [],
   "source": [
    "\n",
    "####### Code uses an iris dataset and randomforrest classifier to train the dataset and \n",
    "###### classify the flower species on the test dataset\n",
    "\n",
    "from sklearn.datasets import load_iris\n",
    "from sklearn.ensemble import RandomForestClassifier\n",
    "import pandas as pd\n",
    "import numpy as np\n",
    "iris = load_iris()\n",
    "print type(iris)\n",
    "print iris.data\n",
    "print iris.feature_names\n",
    "df=pd.DataFrame(iris.data, columns=iris.feature_names)\n",
    "print \"+++++++++++++++++++++\"\n",
    "print df.head()\n",
    "df['species'] = pd.Categorical.from_codes(iris.target, iris.target_names)\n",
    "print df.head(5)\n",
    "df['is_train'] = np.random.uniform(0, 1, len(df)) <= 2.0/3.0\n",
    "df.head()\n",
    "train, test = df[df['is_train']==True], df[df['is_train']==False]\n",
    "print('Number of observations in the training data:', len(train))\n",
    "print('Number of observations in the test data:',len(test))\n",
    "features = df.columns[:4]\n",
    "print \"+++++++++++++++++++++++++++++++++++++++++++++++++++++++++\"\n",
    "print len(train.columns)\n",
    "print \"+++++++++++++++++++++++++++++++++++++++++++++++++++++++++\"\n",
    "print train['species']\n",
    "y = pd.factorize(train['species'])[0]"
   ]
  },
  {
   "cell_type": "code",
   "execution_count": null,
   "metadata": {
    "collapsed": false
   },
   "outputs": [],
   "source": []
  },
  {
   "cell_type": "code",
   "execution_count": null,
   "metadata": {
    "collapsed": false
   },
   "outputs": [],
   "source": [
    "\n"
   ]
  },
  {
   "cell_type": "code",
   "execution_count": null,
   "metadata": {
    "collapsed": false
   },
   "outputs": [],
   "source": []
  },
  {
   "cell_type": "code",
   "execution_count": null,
   "metadata": {
    "collapsed": false
   },
   "outputs": [],
   "source": []
  },
  {
   "cell_type": "code",
   "execution_count": null,
   "metadata": {
    "collapsed": true
   },
   "outputs": [],
   "source": []
  }
 ],
 "metadata": {
  "kernelspec": {
   "display_name": "Python 2",
   "language": "python",
   "name": "python2"
  },
  "language_info": {
   "codemirror_mode": {
    "name": "ipython",
    "version": 2
   },
   "file_extension": ".py",
   "mimetype": "text/x-python",
   "name": "python",
   "nbconvert_exporter": "python",
   "pygments_lexer": "ipython2",
   "version": "2.7.13"
  }
 },
 "nbformat": 4,
 "nbformat_minor": 2
}
